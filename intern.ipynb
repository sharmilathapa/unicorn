{
 "cells": [
  {
   "cell_type": "code",
<<<<<<< HEAD
   "execution_count": 77,
=======
   "execution_count": 210,
>>>>>>> 497df12358ade879bbb229e6f8bf3fffb7c96492
   "id": "dbba5596",
   "metadata": {},
   "outputs": [],
   "source": [
    "import pandas as pd\n",
    "import numpy as np\n",
<<<<<<< HEAD
    "from pathlib import Path\n",
=======
    "#from pathlib import Path\n",
>>>>>>> 497df12358ade879bbb229e6f8bf3fffb7c96492
    "import matplotlib.pyplot as plt\n",
    "import random\n",
    "#create df_all variable\n",
    "df_all = pd.read_csv('nuresed.csv', low_memory=False)\n",
    "def get_duplicate_long_latitude():\n",
    "    duplicate_data = df_all[df_all.duplicated(subset=['latitude', 'longitude'], keep=False)]\n",
<<<<<<< HEAD
    "    #filepath = Path('duplicate_nuresed1-fUS01.csv')  \n",
    "    #duplicate_data.to_csv(filepath) \n",
    "    return duplicate_data \n",
    "\n",
    "\n",
    "\n",
    " \n",
    "   "
=======
    "    return duplicate_data   "
>>>>>>> 497df12358ade879bbb229e6f8bf3fffb7c96492
   ]
  },
  {
   "cell_type": "code",
<<<<<<< HEAD
   "execution_count": 78,
   "id": "140595fb",
   "metadata": {},
   "outputs": [
    {
     "data": {
      "text/plain": [
       "(397609, 145)"
      ]
     },
     "execution_count": 78,
     "metadata": {},
     "output_type": "execute_result"
    }
   ],
   "source": [
    "df_all.shape# print number of row and colunm in data set\n"
   ]
  },
  {
   "cell_type": "code",
   "execution_count": 79,
=======
   "execution_count": null,
   "id": "140595fb",
   "metadata": {},
   "outputs": [],
   "source": []
  },
  {
   "cell_type": "code",
   "execution_count": 211,
>>>>>>> 497df12358ade879bbb229e6f8bf3fffb7c96492
   "id": "0483fff3",
   "metadata": {},
   "outputs": [
    {
     "name": "stdout",
     "output_type": "stream",
     "text": [
<<<<<<< HEAD
      "                             methods wtrlevel     sampdat  samptyp\n",
      "370401                 LA1, LA4, LA5   NORMAL  1978/08/25       12\n",
      "370307            LA1, LA2, LA4, LA5   NORMAL  1978/08/24       79\n",
      "212720  SR1, SR2, SR3-AA;CA;FE;XU;XX      DRY  1979/03/19       59\n",
      "396041            LA1, LA3, LA4, LA5   NORMAL  1976/08/22       13\n",
      "170366                      SR1, SR2      DRY  1979/04/18       61\n"
=======
      "                         methods wtrlevel     sampdat  samptyp\n",
      "13  SR1, SR2, SR3-AA;CA;FE;XU;XX   NORMAL  1976/07/10       50\n",
      "4   SR1, SR2, SR3-AA;CA;FE;XU;XX   NORMAL  1976/08/15       50\n",
      "55  SR1, SR2, SR3-AA;CA;FE;XU;XX   NORMAL  1976/07/03       50\n",
      "21                      SR1, SR2      DRY  1976/08/03       50\n",
      "46     SR1, SR2, SR3-AA;CA;FE;XU   NORMAL  1976/08/11       50\n"
>>>>>>> 497df12358ade879bbb229e6f8bf3fffb7c96492
     ]
    }
   ],
   "source": [
    "#create function def get_random and pass the colume name as array\n",
    "def get_random(colume_name=[]):\n",
    "    \n",
    "# get duplicate value \n",
    "    dup_df = get_duplicate_long_latitude()\n",
    "    \n",
    "#create to get ramdon number 5\n",
    "    num_of_data_sample = dup_df.sample(n=5)\n",
    "    \n",
    "#return (\"colume Name is empyt!! Column one or more column name requires\")\n",
    "    return (num_of_data_sample[colume_name])\n",
    "#name of the colume \n",
    "\n",
    "Name_of_col_to_get_value = [\"methods\",\"wtrlevel\",\"sampdat\",\"samptyp\"]                    \n",
    "print(get_random(Name_of_col_to_get_value))\n",
    "#print(get_sample_wtrlevel_samptyp([\"wtrlevel\"]))\n"
   ]
  },
  {
   "cell_type": "code",
   "execution_count": 80,
   "id": "400bdfab",
   "metadata": {},
   "outputs": [
    {
     "data": {
      "text/plain": [
       "(51613, 145)"
      ]
     },
     "execution_count": 80,
     "metadata": {},
     "output_type": "execute_result"
    }
   ],
   "source": [
    "dup_df.shape#number of duplicate dat set"
   ]
  },
  {
   "cell_type": "code",
   "execution_count": null,
   "id": "f7088477",
   "metadata": {},
   "outputs": [],
   "source": [
    "\n",
    "\n"
   ]
  },
  {
   "cell_type": "code",
   "execution_count": 11,
   "id": "4968af93",
   "metadata": {},
   "outputs": [],
   "source": [
    "def get_diff_value_by_latitude(latitude):\n",
    "    Sample_dup = get_duplicate_long_latitude()\n",
    "    new_df = Sample_dup.loc[Sample_dup ['latitude'] == latitude]\n",
    "    return new_df"
   ]
  },
  {
   "cell_type": "code",
   "execution_count": null,
   "id": "699a8323",
   "metadata": {},
   "outputs": [],
   "source": []
  },
  {
   "cell_type": "code",
   "execution_count": 12,
   "id": "6043e014",
   "metadata": {},
   "outputs": [
    {
     "name": "stdout",
     "output_type": "stream",
     "text": [
      "        latitude  longitude\n",
      "122774   38.6314  -110.9532\n",
      "122775   38.6314  -110.9532\n"
     ]
    }
   ],
   "source": [
    "#declare varaiable for function\n",
    "dup_df = get_duplicate_long_latitude()\n",
    "#declare variable for the random range\n",
    "rand_index = random.randrange(len(dup_df))\n",
    "get_random_row = dup_df.iloc[[rand_index]]\n",
    "duplicate_row_by_latitude = get_diff_value_by_latitude(get_random_row['latitude'].values[0])\n",
    "column_array = ['strdpthc',\n",
    "    'strwdthc',\n",
    "    'latitude', \n",
    "    'longitude',\n",
    "    'wtrlevel',\n",
    "    'weather',\n",
    "    'wtrtemp',\n",
    "    'ph',\n",
    "    'cond',\n",
    "    'alk',\n",
    "    'sedtype',\n",
    "    'sedcolr',\n",
    "    'strflowc',\n",
    "    'wtrcolr',\n",
    "    'sampdat',\n",
    "                \n",
    "]\n",
    "\n",
    "df_new_data = duplicate_row_by_latitude[column_array]\n",
    "different_column = [\n",
    "    'latitude', \n",
    "    'longitude',\n",
    "    \n",
    "    \n",
    "]\n",
    "for i in df_new_data:\n",
    "    value1 = (df_new_data.iloc[[0][0]][i])\n",
    "    value2 = (df_new_data.iloc[[1][0]][i])\n",
    "    if str(value1) != \"nan\" and str(value2) != \"nan\":\n",
    "        if value1 != value2:\n",
    "            different_column.append(i)\n",
    "print(duplicate_row_by_latitude[different_column])    \n",
    "    "
   ]
  },
  {
   "cell_type": "code",
   "execution_count": 13,
   "id": "880bbd6f",
   "metadata": {},
   "outputs": [
    {
     "name": "stdout",
     "output_type": "stream",
     "text": [
      "3702       0.0\n",
      "3703       0.0\n",
      "3839      11.0\n",
      "3874       7.5\n",
      "3886       5.0\n",
      "          ... \n",
      "397229    10.7\n",
      "397230    10.9\n",
      "397231    10.9\n",
      "397232    11.0\n",
      "397233    11.0\n",
      "Name: wtrtemp, Length: 51613, dtype: float64\n"
     ]
    }
   ],
   "source": [
    "wtrtemp_data =dup_df[\"wtrtemp\"].replace(np.nan, 0)\n",
    "print(wtrtemp_data)"
   ]
  },
  {
   "cell_type": "code",
   "execution_count": 14,
   "id": "7d793f8c",
   "metadata": {},
   "outputs": [
    {
     "data": {
      "text/plain": [
       "count    21548.000000\n",
       "mean        18.080407\n",
       "std          5.259961\n",
       "min          0.000000\n",
       "25%         15.000000\n",
       "50%         19.000000\n",
       "75%         22.000000\n",
       "max         71.000000\n",
       "Name: wtrtemp, dtype: float64"
      ]
     },
     "execution_count": 14,
     "metadata": {},
     "output_type": "execute_result"
    }
   ],
   "source": [
    "\n",
    "(dup_df['wtrtemp'].describe())"
   ]
  },
  {
   "cell_type": "code",
   "execution_count": 15,
   "id": "a27adeac",
   "metadata": {},
   "outputs": [
    {
     "data": {
      "text/plain": [
       "count    21488.000000\n",
       "mean       119.731674\n",
       "std        475.110399\n",
       "min          1.000000\n",
       "25%         38.000000\n",
       "50%         61.000000\n",
       "75%        113.000000\n",
       "max      20000.000000\n",
       "Name: cond, dtype: float64"
      ]
     },
     "execution_count": 15,
     "metadata": {},
     "output_type": "execute_result"
    }
   ],
   "source": [
    "cond_data =dup_df[\"cond\"].replace(np.nan, 0)\n",
    "(dup_df['cond'].describe())"
   ]
  },
  {
   "cell_type": "code",
   "execution_count": 16,
   "id": "aaee5326",
   "metadata": {},
   "outputs": [
    {
     "data": {
      "text/plain": [
       "count    21258.000000\n",
       "mean         7.232520\n",
       "std          0.765047\n",
       "min          1.100000\n",
       "25%          6.900000\n",
       "50%          7.300000\n",
       "75%          7.700000\n",
       "max         11.200000\n",
       "Name: ph, dtype: float64"
      ]
     },
     "execution_count": 16,
     "metadata": {},
     "output_type": "execute_result"
    }
   ],
   "source": [
    "ph_data =dup_df[\"ph\"].replace(np.nan, 0)\n",
    "(dup_df['ph'].describe())"
   ]
  },
  {
   "cell_type": "code",
   "execution_count": 17,
   "id": "a1606ff8",
   "metadata": {},
   "outputs": [
    {
     "data": {
      "text/plain": [
       "count    9711.000000\n",
       "mean       16.752353\n",
       "std         7.085262\n",
       "min        -9.000000\n",
       "25%        12.000000\n",
       "50%        16.000000\n",
       "75%        21.000000\n",
       "max        43.000000\n",
       "Name: airtemp, dtype: float64"
      ]
     },
     "execution_count": 17,
     "metadata": {},
     "output_type": "execute_result"
    }
   ],
   "source": [
    "air_data =dup_df[\"airtemp\"].replace(np.nan, 0)\n",
    "(dup_df['airtemp'].describe())"
   ]
  },
  {
   "cell_type": "code",
   "execution_count": 18,
   "id": "ac8a63ec",
   "metadata": {
    "scrolled": true
   },
   "outputs": [
    {
     "data": {
      "text/html": [
       "<div>\n",
       "<style scoped>\n",
       "    .dataframe tbody tr th:only-of-type {\n",
       "        vertical-align: middle;\n",
       "    }\n",
       "\n",
       "    .dataframe tbody tr th {\n",
       "        vertical-align: top;\n",
       "    }\n",
       "\n",
       "    .dataframe thead th {\n",
       "        text-align: right;\n",
       "    }\n",
       "</style>\n",
       "<table border=\"1\" class=\"dataframe\">\n",
       "  <thead>\n",
       "    <tr style=\"text-align: right;\">\n",
       "      <th></th>\n",
       "      <th>mean</th>\n",
       "      <th>median</th>\n",
       "      <th>column_name</th>\n",
       "    </tr>\n",
       "  </thead>\n",
       "  <tbody>\n",
       "    <tr>\n",
       "      <th>0</th>\n",
       "      <td>18.080407</td>\n",
       "      <td>19.0</td>\n",
       "      <td>wtrtemp</td>\n",
       "    </tr>\n",
       "    <tr>\n",
       "      <th>1</th>\n",
       "      <td>119.731674</td>\n",
       "      <td>61.0</td>\n",
       "      <td>cond</td>\n",
       "    </tr>\n",
       "    <tr>\n",
       "      <th>2</th>\n",
       "      <td>7.232520</td>\n",
       "      <td>7.3</td>\n",
       "      <td>ph</td>\n",
       "    </tr>\n",
       "    <tr>\n",
       "      <th>3</th>\n",
       "      <td>16.752353</td>\n",
       "      <td>16.0</td>\n",
       "      <td>airtemp</td>\n",
       "    </tr>\n",
       "  </tbody>\n",
       "</table>\n",
       "</div>"
      ],
      "text/plain": [
       "         mean  median column_name\n",
       "0   18.080407    19.0     wtrtemp\n",
       "1  119.731674    61.0        cond\n",
       "2    7.232520     7.3          ph\n",
       "3   16.752353    16.0     airtemp"
      ]
     },
     "execution_count": 18,
     "metadata": {},
     "output_type": "execute_result"
    }
   ],
   "source": [
    "df= ({'mean':[   18.080407,   119.731674,  7.232520, 16.752353\n",
    " ],\n",
    "           'median':[19.000000, 61.000000,  7.300000, 16.000000,   \n",
    "],\n",
    "           'column_name': ['wtrtemp', 'cond', 'ph', 'airtemp']})\n",
    "df1 = pd.DataFrame(df)\n",
    "df1\n"
   ]
  },
  {
   "cell_type": "code",
   "execution_count": 19,
   "id": "37cc66ee",
   "metadata": {},
   "outputs": [
    {
     "data": {
      "text/html": [
       "<div>\n",
       "<style scoped>\n",
       "    .dataframe tbody tr th:only-of-type {\n",
       "        vertical-align: middle;\n",
       "    }\n",
       "\n",
       "    .dataframe tbody tr th {\n",
       "        vertical-align: top;\n",
       "    }\n",
       "\n",
       "    .dataframe thead th {\n",
       "        text-align: right;\n",
       "    }\n",
       "</style>\n",
       "<table border=\"1\" class=\"dataframe\">\n",
       "  <thead>\n",
       "    <tr style=\"text-align: right;\">\n",
       "      <th></th>\n",
       "      <th>mean</th>\n",
       "      <th>median</th>\n",
       "      <th>column_name</th>\n",
       "    </tr>\n",
       "  </thead>\n",
       "  <tbody>\n",
       "    <tr>\n",
       "      <th>2</th>\n",
       "      <td>7.232520</td>\n",
       "      <td>7.3</td>\n",
       "      <td>ph</td>\n",
       "    </tr>\n",
       "    <tr>\n",
       "      <th>3</th>\n",
       "      <td>16.752353</td>\n",
       "      <td>16.0</td>\n",
       "      <td>airtemp</td>\n",
       "    </tr>\n",
       "    <tr>\n",
       "      <th>0</th>\n",
       "      <td>18.080407</td>\n",
       "      <td>19.0</td>\n",
       "      <td>wtrtemp</td>\n",
       "    </tr>\n",
       "    <tr>\n",
       "      <th>1</th>\n",
       "      <td>119.731674</td>\n",
       "      <td>61.0</td>\n",
       "      <td>cond</td>\n",
       "    </tr>\n",
       "  </tbody>\n",
       "</table>\n",
       "</div>"
      ],
      "text/plain": [
       "         mean  median column_name\n",
       "2    7.232520     7.3          ph\n",
       "3   16.752353    16.0     airtemp\n",
       "0   18.080407    19.0     wtrtemp\n",
       "1  119.731674    61.0        cond"
      ]
     },
     "execution_count": 19,
     "metadata": {},
     "output_type": "execute_result"
    }
   ],
   "source": [
    "mean = df1.sort_values(by=['mean'])\n",
    "mean"
   ]
  },
  {
   "cell_type": "code",
   "execution_count": 20,
   "id": "d57a598b",
   "metadata": {
    "scrolled": false
   },
   "outputs": [
    {
     "data": {
      "text/plain": [
       "<AxesSubplot:>"
      ]
     },
     "execution_count": 20,
     "metadata": {},
     "output_type": "execute_result"
    },
    {
     "data": {
      "image/png": "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\n",
      "text/plain": [
       "<Figure size 432x288 with 1 Axes>"
      ]
     },
     "metadata": {
      "needs_background": "light"
     },
     "output_type": "display_data"
    }
   ],
   "source": [
    "mean.plot(kind='bar')\n"
   ]
  },
  {
   "cell_type": "code",
   "execution_count": 21,
   "id": "1b2d6104",
   "metadata": {},
   "outputs": [
    {
     "data": {
      "text/plain": [
       "SRL-W    19423\n",
       "SRL-E    18235\n",
       "LASL      7712\n",
       "ORGDP     3252\n",
       "LLL       2991\n",
       "Name: doelab, dtype: int64"
      ]
     },
     "execution_count": 21,
     "metadata": {},
     "output_type": "execute_result"
    }
   ],
   "source": [
    "dup_df['doelab'].value_counts()\n",
    "\n"
   ]
  },
  {
   "cell_type": "code",
   "execution_count": 22,
   "id": "570cbe43",
   "metadata": {},
   "outputs": [
    {
     "data": {
      "text/plain": [
       "LASL     178047\n",
       "SRL-W     83254\n",
       "SRL-E     77535\n",
       "ORGDP     40409\n",
       "LLL       18364\n",
       "Name: doelab, dtype: int64"
      ]
     },
     "execution_count": 22,
     "metadata": {},
     "output_type": "execute_result"
    }
   ],
   "source": [
    "df_all['doelab'].value_counts()"
   ]
  },
  {
   "cell_type": "code",
   "execution_count": 23,
   "id": "504c0f96",
   "metadata": {},
   "outputs": [
    {
     "data": {
      "text/plain": [
       "count    51295.000000\n",
       "mean        38.639428\n",
       "std          7.795370\n",
       "min         26.664000\n",
       "25%         34.490750\n",
       "50%         35.902300\n",
       "75%         39.636400\n",
       "max         69.718300\n",
       "Name: latitude, dtype: float64"
      ]
     },
     "execution_count": 23,
     "metadata": {},
     "output_type": "execute_result"
    }
   ],
   "source": [
    "#air_data =dup_df[\"airtemp\"].replace(np.nan, 0)\n",
    "(dup_df['latitude'].describe())\n",
    "\n",
    "\n",
    "\n"
   ]
  },
  {
   "cell_type": "code",
   "execution_count": 24,
   "id": "52c55c27",
   "metadata": {},
   "outputs": [
    {
     "data": {
      "text/plain": [
       "count    51295.000000\n",
       "mean      -104.208193\n",
       "std         20.647605\n",
       "min       -166.961100\n",
       "25%       -117.219600\n",
       "50%       -110.729100\n",
       "75%        -81.928150\n",
       "max        -70.150400\n",
       "Name: longitude, dtype: float64"
      ]
     },
     "execution_count": 24,
     "metadata": {},
     "output_type": "execute_result"
    }
   ],
   "source": [
    "(dup_df['longitude'].describe())"
   ]
  },
  {
   "cell_type": "code",
   "execution_count": 81,
   "id": "ec085570",
   "metadata": {},
   "outputs": [],
   "source": [
    "dup_df = get_duplicate_long_latitude()\n",
    "#first_dup = dup_df.loc[dup_df['latitude']==45.0936]\n",
    "#value_count = dup_df[\"latitude\"].value_counts()\n",
    "\n",
    "\n",
    "unique_doelab = dup_df['doelab'].unique()\n",
    "#print(unique_doelab)\n",
    "\n",
    "lasl = dup_df.loc[dup_df['doelab'] == unique_doelab[0]]\n",
    "LLL = dup_df.loc[dup_df['doelab'] == unique_doelab[1]]\n",
    "SRL_W = dup_df.loc[dup_df['doelab'] == unique_doelab[2]]\n",
    "ORGDP = dup_df.loc[dup_df['doelab'] == unique_doelab[3]]\n",
    "SRL_E = dup_df.loc[dup_df['doelab'] == unique_doelab[4]]\n",
    "data = []\n",
    "#for i in unique_doelab:\n",
    "#    data.append(dup_df.loc[dup_df['doelab'] == i])\n",
    " \n",
    "#for i in data:\n",
    "#    print(i[['latitude', 'longitude']].describe())\n",
    "\n",
    "#print(lasl['latitude'].value_counts())\n",
    "#print(\"lasl_region\", lasl[['latitude', 'longitude']])\n",
    "#print(\"LLL_region\", LLL[['latitude', 'longitude']])\n",
    "#print(\"SRL_W_region\", SRL_W[['latitude', 'longitude']])\n",
    "#print(\"ORGDP_region\", ORGDP[['latitude', 'longitude']])\n",
    "#print(\"SRL_E_region\", SRL_E[['latitude', 'longitude']])\n",
    "\n",
    "#lasl[['latitude', 'longitude']].describe()\n"
   ]
  },
  {
   "cell_type": "code",
   "execution_count": 82,
   "id": "ed25605a",
   "metadata": {},
   "outputs": [
    {
     "data": {
      "text/plain": [
       "latitude      50.548241\n",
       "longitude   -128.465020\n",
       "dtype: float64"
      ]
     },
     "execution_count": 82,
     "metadata": {},
     "output_type": "execute_result"
    }
   ],
   "source": [
    "#SRL_W[['latitude', 'longitude']].describe()\n",
    "\n",
    "df_mean1= lasl[['latitude', 'longitude']].mean()\n",
    "df_mean1"
   ]
  },
  {
   "cell_type": "code",
   "execution_count": 83,
   "id": "339db386",
   "metadata": {},
   "outputs": [
    {
     "data": {
      "text/plain": [
       "latitude      46.4708\n",
       "longitude   -112.5825\n",
       "dtype: float64"
      ]
     },
     "execution_count": 83,
     "metadata": {},
     "output_type": "execute_result"
    }
   ],
   "source": [
    "df_median1= lasl[['latitude', 'longitude']].median()\n",
    "df_median1"
   ]
  },
  {
   "cell_type": "code",
   "execution_count": 84,
   "id": "6bd217dc",
   "metadata": {},
   "outputs": [
    {
     "data": {
      "text/plain": [
       "latitude      4.077441\n",
       "longitude   -15.882520\n",
       "dtype: float64"
      ]
     },
     "execution_count": 84,
     "metadata": {},
     "output_type": "execute_result"
    }
   ],
   "source": [
    "diff_mean_median1=(df_mean1-df_median1)\n",
    "diff_mean_median1"
   ]
  },
  {
   "cell_type": "code",
   "execution_count": null,
   "id": "1a987d7c",
   "metadata": {},
   "outputs": [],
   "source": []
  },
  {
   "cell_type": "code",
   "execution_count": null,
   "id": "a04bf187",
   "metadata": {},
   "outputs": [],
   "source": []
  },
  {
   "cell_type": "code",
   "execution_count": 85,
   "id": "3d74b558",
   "metadata": {},
   "outputs": [
    {
     "data": {
      "text/plain": [
       "latitude      39.066622\n",
       "longitude   -115.199393\n",
       "dtype: float64"
      ]
     },
     "execution_count": 85,
     "metadata": {},
     "output_type": "execute_result"
    }
   ],
   "source": [
    "df_mean2= LLL[['latitude', 'longitude']].mean()\n",
    "df_mean2\n",
    "\n"
   ]
  },
  {
   "cell_type": "code",
   "execution_count": 86,
   "id": "37169c67",
   "metadata": {},
   "outputs": [
    {
     "data": {
      "text/plain": [
       "latitude      36.6853\n",
       "longitude   -115.4369\n",
       "dtype: float64"
      ]
     },
     "execution_count": 86,
     "metadata": {},
     "output_type": "execute_result"
    }
   ],
   "source": [
    "df_median2= LLL[['latitude', 'longitude']].median()\n",
    "df_median2"
   ]
  },
  {
   "cell_type": "code",
   "execution_count": 87,
   "id": "89f8ed82",
   "metadata": {},
   "outputs": [
    {
     "data": {
      "text/plain": [
       "latitude     2.381322\n",
       "longitude    0.237507\n",
       "dtype: float64"
      ]
     },
     "execution_count": 87,
     "metadata": {},
     "output_type": "execute_result"
    }
   ],
   "source": [
    "diff_mean_median2=(df_mean2-df_median2)\n",
    "diff_mean_median2"
   ]
  },
  {
   "cell_type": "code",
   "execution_count": 88,
   "id": "4eee8f9a",
   "metadata": {},
   "outputs": [
    {
     "data": {
      "text/plain": [
       "latitude      35.553654\n",
       "longitude   -115.539778\n",
       "dtype: float64"
      ]
     },
     "execution_count": 88,
     "metadata": {},
     "output_type": "execute_result"
    }
   ],
   "source": [
    "\n",
    "df_mean3= SRL_W[['latitude', 'longitude']].mean()\n",
    "df_mean3\n"
   ]
  },
  {
   "cell_type": "code",
   "execution_count": 89,
   "id": "1ff097aa",
   "metadata": {},
   "outputs": [
    {
     "data": {
      "text/plain": [
       "latitude      35.5921\n",
       "longitude   -115.8542\n",
       "dtype: float64"
      ]
     },
     "execution_count": 89,
     "metadata": {},
     "output_type": "execute_result"
    }
   ],
   "source": [
    "df_median3= SRL_W[['latitude', 'longitude']].median()\n",
    "df_median3\n"
   ]
  },
  {
   "cell_type": "code",
   "execution_count": 90,
   "id": "d74dc23b",
   "metadata": {},
   "outputs": [
    {
     "data": {
      "text/plain": [
       "latitude    -0.038446\n",
       "longitude    0.314422\n",
       "dtype: float64"
      ]
     },
     "execution_count": 90,
     "metadata": {},
     "output_type": "execute_result"
    }
   ],
   "source": [
    "diff_mean_median3=(df_mean3-df_median3)\n",
    "diff_mean_median3"
   ]
  },
  {
   "cell_type": "code",
   "execution_count": 91,
   "id": "12fff7e4",
   "metadata": {},
   "outputs": [
    {
     "data": {
      "text/plain": [
       "latitude     39.862252\n",
       "longitude   -96.481567\n",
       "dtype: float64"
      ]
     },
     "execution_count": 91,
     "metadata": {},
     "output_type": "execute_result"
    }
   ],
   "source": [
    "\n",
    "\n",
    "df_mean4= ORGDP[['latitude', 'longitude']].mean()\n",
    "df_mean4"
   ]
  },
  {
   "cell_type": "code",
   "execution_count": 92,
   "id": "0d11f2cd",
   "metadata": {},
   "outputs": [
    {
     "data": {
      "text/plain": [
       "latitude     45.033\n",
       "longitude   -91.768\n",
       "dtype: float64"
      ]
     },
     "execution_count": 92,
     "metadata": {},
     "output_type": "execute_result"
    }
   ],
   "source": [
    "df_median4= ORGDP[['latitude', 'longitude']].median()\n",
    "df_median4\n"
   ]
  },
  {
   "cell_type": "code",
   "execution_count": 93,
   "id": "dbce0693",
   "metadata": {},
   "outputs": [
    {
     "data": {
      "text/plain": [
       "latitude    -5.170748\n",
       "longitude   -4.713567\n",
       "dtype: float64"
      ]
     },
     "execution_count": 93,
     "metadata": {},
     "output_type": "execute_result"
    }
   ],
   "source": [
    "diff_mean_median4=(df_mean4-df_median4)\n",
    "diff_mean_median4"
   ]
  },
  {
   "cell_type": "code",
   "execution_count": 94,
   "id": "18018624",
   "metadata": {},
   "outputs": [
    {
     "data": {
      "text/plain": [
       "latitude     36.580878\n",
       "longitude   -81.262918\n",
       "dtype: float64"
      ]
     },
     "execution_count": 94,
     "metadata": {},
     "output_type": "execute_result"
    }
   ],
   "source": [
    "df_mean5= SRL_E[['latitude', 'longitude']].mean()\n",
    "df_mean5\n"
   ]
  },
  {
   "cell_type": "code",
   "execution_count": 95,
   "id": "7d4ddfff",
   "metadata": {},
   "outputs": [
    {
     "data": {
      "text/plain": [
       "latitude     36.0468\n",
       "longitude   -80.9706\n",
       "dtype: float64"
      ]
     },
     "execution_count": 95,
     "metadata": {},
     "output_type": "execute_result"
    }
   ],
   "source": [
    "df_median5= SRL_E[['latitude', 'longitude']].median()\n",
    "df_median5"
   ]
  },
  {
   "cell_type": "code",
   "execution_count": 96,
   "id": "8b77a2be",
   "metadata": {},
   "outputs": [
    {
     "data": {
      "text/plain": [
       "latitude     0.534078\n",
       "longitude   -0.292318\n",
       "dtype: float64"
      ]
     },
     "execution_count": 96,
     "metadata": {},
     "output_type": "execute_result"
    }
   ],
   "source": [
    "diff_mean_median5= (df_mean5-df_median5)\n",
    "diff_mean_median5"
   ]
  },
  {
   "cell_type": "code",
   "execution_count": 111,
   "id": "bffc1a63",
   "metadata": {},
   "outputs": [
    {
     "data": {
      "text/html": [
       "<div>\n",
       "<style scoped>\n",
       "    .dataframe tbody tr th:only-of-type {\n",
       "        vertical-align: middle;\n",
       "    }\n",
       "\n",
       "    .dataframe tbody tr th {\n",
       "        vertical-align: top;\n",
       "    }\n",
       "\n",
       "    .dataframe thead th {\n",
       "        text-align: right;\n",
       "    }\n",
       "</style>\n",
       "<table border=\"1\" class=\"dataframe\">\n",
       "  <thead>\n",
       "    <tr style=\"text-align: right;\">\n",
       "      <th></th>\n",
       "      <th>mean</th>\n",
       "      <th>median</th>\n",
       "      <th>column_name</th>\n",
       "    </tr>\n",
       "  </thead>\n",
       "  <tbody>\n",
       "    <tr>\n",
       "      <th>0</th>\n",
       "      <td>50.548241</td>\n",
       "      <td>46.470800</td>\n",
       "      <td>latitude_mean_lasl</td>\n",
       "    </tr>\n",
       "    <tr>\n",
       "      <th>1</th>\n",
       "      <td>-128.465020</td>\n",
       "      <td>-112.582500</td>\n",
       "      <td>longitude_medain_lasl</td>\n",
       "    </tr>\n",
       "    <tr>\n",
       "      <th>2</th>\n",
       "      <td>39.066622</td>\n",
       "      <td>36.685300</td>\n",
       "      <td>latitude_mean_lll</td>\n",
       "    </tr>\n",
       "    <tr>\n",
       "      <th>3</th>\n",
       "      <td>-115.199393</td>\n",
       "      <td>-115.199393</td>\n",
       "      <td>longitude_medain_lll</td>\n",
       "    </tr>\n",
       "    <tr>\n",
       "      <th>4</th>\n",
       "      <td>35.553654</td>\n",
       "      <td>35.592100</td>\n",
       "      <td>latitude_mean_SRL_W</td>\n",
       "    </tr>\n",
       "    <tr>\n",
       "      <th>5</th>\n",
       "      <td>-115.539778</td>\n",
       "      <td>-115.854200</td>\n",
       "      <td>longitude_medain_SRL_W</td>\n",
       "    </tr>\n",
       "    <tr>\n",
       "      <th>6</th>\n",
       "      <td>39.862252</td>\n",
       "      <td>45.033000</td>\n",
       "      <td>latitude_mean_ORGDP</td>\n",
       "    </tr>\n",
       "    <tr>\n",
       "      <th>7</th>\n",
       "      <td>-96.481567</td>\n",
       "      <td>-91.768000</td>\n",
       "      <td>longitude_medain_ORGDP</td>\n",
       "    </tr>\n",
       "    <tr>\n",
       "      <th>8</th>\n",
       "      <td>36.580878</td>\n",
       "      <td>36.046800</td>\n",
       "      <td>latitude_mean_SRL_E</td>\n",
       "    </tr>\n",
       "    <tr>\n",
       "      <th>9</th>\n",
       "      <td>-81.262918</td>\n",
       "      <td>-80.970600</td>\n",
       "      <td>longitude_medain_SRL_E</td>\n",
       "    </tr>\n",
       "  </tbody>\n",
       "</table>\n",
       "</div>"
      ],
      "text/plain": [
       "         mean      median             column_name\n",
       "0   50.548241   46.470800      latitude_mean_lasl\n",
       "1 -128.465020 -112.582500   longitude_medain_lasl\n",
       "2   39.066622   36.685300       latitude_mean_lll\n",
       "3 -115.199393 -115.199393    longitude_medain_lll\n",
       "4   35.553654   35.592100     latitude_mean_SRL_W\n",
       "5 -115.539778 -115.854200  longitude_medain_SRL_W\n",
       "6   39.862252   45.033000     latitude_mean_ORGDP\n",
       "7  -96.481567  -91.768000  longitude_medain_ORGDP\n",
       "8   36.580878   36.046800     latitude_mean_SRL_E\n",
       "9  -81.262918  -80.970600  longitude_medain_SRL_E"
      ]
     },
     "execution_count": 111,
     "metadata": {},
     "output_type": "execute_result"
    }
   ],
   "source": [
    "df2= ({'mean':[  50.548241 ,-128.4650204,\n",
    "               39.066622, -115.199393, \n",
    "               35.553654, -115.539778, \n",
    "               39.862252, -96.481567,\n",
    "               36.580878, -81.262918, \n",
    " ],\n",
    "           'median':[46.4708, -112.5825,  \n",
    "                     36.6853, -115.199393,\n",
    "                     35.5921, -115.8542,\n",
    "                     45.033, -91.768, \n",
    "                     36.0468, -80.9706,  \n",
    "                     \n",
    "                      \n",
    "\n",
    "                     \n",
    "],\n",
    "           'column_name': ['latitude_mean_lasl', 'longitude_medain_lasl',\n",
    "                           'latitude_mean_lll','longitude_medain_lll', \n",
    "                            'latitude_mean_SRL_W','longitude_medain_SRL_W', \n",
    "                          'latitude_mean_ORGDP','longitude_medain_ORGDP',\n",
    "                          'latitude_mean_SRL_E','longitude_medain_SRL_E', ]})\n",
    "df3 = pd.DataFrame(df2)\n",
    "df3\n",
    "\n"
   ]
  },
  {
   "cell_type": "code",
   "execution_count": 112,
   "id": "c505ce9f",
   "metadata": {},
   "outputs": [
    {
     "data": {
      "text/plain": [
       "<AxesSubplot:>"
      ]
     },
     "execution_count": 112,
     "metadata": {},
     "output_type": "execute_result"
    },
    {
     "data": {
      "image/png": "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\n",
      "text/plain": [
       "<Figure size 432x288 with 1 Axes>"
      ]
     },
     "metadata": {
      "needs_background": "light"
     },
     "output_type": "display_data"
    }
   ],
   "source": [
    "\n",
    "df3.plot.bar()\n"
   ]
  },
  {
   "cell_type": "code",
   "execution_count": 113,
   "id": "f630b5f0",
   "metadata": {},
   "outputs": [
    {
     "data": {
      "text/html": [
       "<div>\n",
       "<style scoped>\n",
       "    .dataframe tbody tr th:only-of-type {\n",
       "        vertical-align: middle;\n",
       "    }\n",
       "\n",
       "    .dataframe tbody tr th {\n",
       "        vertical-align: top;\n",
       "    }\n",
       "\n",
       "    .dataframe thead th {\n",
       "        text-align: right;\n",
       "    }\n",
       "</style>\n",
       "<table border=\"1\" class=\"dataframe\">\n",
       "  <thead>\n",
       "    <tr style=\"text-align: right;\">\n",
       "      <th></th>\n",
       "      <th>mean1</th>\n",
       "      <th>median1</th>\n",
       "      <th>column_name1</th>\n",
       "    </tr>\n",
       "  </thead>\n",
       "  <tbody>\n",
       "    <tr>\n",
       "      <th>0</th>\n",
       "      <td>4.077441</td>\n",
       "      <td>-15.882520</td>\n",
       "      <td>lasl</td>\n",
       "    </tr>\n",
       "    <tr>\n",
       "      <th>1</th>\n",
       "      <td>2.389322</td>\n",
       "      <td>0.237507</td>\n",
       "      <td>LLL</td>\n",
       "    </tr>\n",
       "    <tr>\n",
       "      <th>2</th>\n",
       "      <td>-0.038446</td>\n",
       "      <td>0.314422</td>\n",
       "      <td>SRL_W</td>\n",
       "    </tr>\n",
       "    <tr>\n",
       "      <th>3</th>\n",
       "      <td>-5.170748</td>\n",
       "      <td>-4.713567</td>\n",
       "      <td>ORGDP</td>\n",
       "    </tr>\n",
       "    <tr>\n",
       "      <th>4</th>\n",
       "      <td>0.534078</td>\n",
       "      <td>-0.292318</td>\n",
       "      <td>SRL_E</td>\n",
       "    </tr>\n",
       "  </tbody>\n",
       "</table>\n",
       "</div>"
      ],
      "text/plain": [
       "      mean1    median1 column_name1\n",
       "0  4.077441 -15.882520         lasl\n",
       "1  2.389322   0.237507          LLL\n",
       "2 -0.038446   0.314422        SRL_W\n",
       "3 -5.170748  -4.713567        ORGDP\n",
       "4  0.534078  -0.292318        SRL_E"
      ]
     },
     "execution_count": 113,
     "metadata": {},
     "output_type": "execute_result"
    }
   ],
   "source": [
    "\n",
    "\n",
    "                    \n",
    "raw_data= ({'mean1':[ 4.077441, 2.389322,-0.038446,-5.170748,0.534078],\n",
    "           'median1':[-15.882520,0.237507, 0.314422, -4.713567,-0.292318 ],\n",
    "           'column_name1': ['lasl', 'LLL', 'SRL_W', 'ORGDP','SRL_E']})\n",
    "data1 = pd.DataFrame(raw_data)\n",
    "data1"
   ]
  },
  {
   "cell_type": "code",
   "execution_count": 110,
   "id": "4d1f70b8",
   "metadata": {},
   "outputs": [
    {
     "data": {
      "text/plain": [
       "<AxesSubplot:>"
      ]
     },
     "execution_count": 110,
     "metadata": {},
     "output_type": "execute_result"
    },
    {
     "data": {
      "image/png": "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\n",
      "text/plain": [
       "<Figure size 432x288 with 1 Axes>"
      ]
     },
     "metadata": {
      "needs_background": "light"
     },
     "output_type": "display_data"
    }
   ],
   "source": [
    "data1.plot.bar()"
   ]
  },
  {
   "cell_type": "code",
   "execution_count": null,
   "id": "288b8511",
   "metadata": {},
   "outputs": [],
   "source": []
  },
  {
   "cell_type": "code",
   "execution_count": null,
   "id": "ae9c1f7d",
   "metadata": {},
   "outputs": [],
   "source": []
  },
  {
   "cell_type": "code",
   "execution_count": null,
   "id": "46f0d1b0",
   "metadata": {},
   "outputs": [],
   "source": []
  },
  {
   "cell_type": "code",
   "execution_count": null,
   "id": "e0b0fa8d",
   "metadata": {
    "scrolled": false
   },
   "outputs": [],
   "source": [
    " "
   ]
  },
  {
   "cell_type": "code",
   "execution_count": null,
   "id": "21fd0705",
   "metadata": {},
   "outputs": [],
   "source": []
  },
  {
   "cell_type": "code",
   "execution_count": null,
   "id": "42671dc4",
   "metadata": {},
   "outputs": [],
   "source": []
  },
  {
   "cell_type": "code",
   "execution_count": null,
   "id": "06bf2591",
   "metadata": {},
   "outputs": [],
   "source": []
  },
  {
   "cell_type": "code",
   "execution_count": null,
   "id": "de1586bf",
   "metadata": {},
   "outputs": [],
   "source": []
  },
  {
   "cell_type": "code",
   "execution_count": null,
   "id": "72ac105a",
   "metadata": {},
   "outputs": [],
   "source": []
  },
  {
   "cell_type": "code",
   "execution_count": null,
   "id": "19dacad7",
   "metadata": {},
   "outputs": [],
   "source": []
  },
  {
   "cell_type": "code",
   "execution_count": null,
   "id": "161a5af7",
   "metadata": {},
   "outputs": [],
   "source": []
  },
  {
   "cell_type": "code",
   "execution_count": null,
   "id": "77ad674b",
   "metadata": {},
   "outputs": [],
   "source": []
  },
  {
   "cell_type": "code",
   "execution_count": null,
   "id": "278e2b79",
   "metadata": {},
   "outputs": [],
   "source": [
    "\n"
   ]
  },
  {
   "cell_type": "code",
   "execution_count": 212,
   "id": "4968af93",
   "metadata": {},
   "outputs": [],
   "source": [
    "def get_diff_value_by_latitude(latitude):\n",
    "    Sample_dup = get_duplicate_long_latitude()\n",
    "    new_df = Sample_dup.loc[Sample_dup ['latitude'] == latitude]\n",
    "    return new_df"
   ]
  },
  {
   "cell_type": "code",
   "execution_count": null,
   "id": "699a8323",
   "metadata": {},
   "outputs": [],
   "source": []
  },
  {
   "cell_type": "code",
   "execution_count": 213,
   "id": "6043e014",
   "metadata": {},
   "outputs": [
    {
     "name": "stdout",
     "output_type": "stream",
     "text": [
      "    latitude  longitude   strwdthc  wtrtemp   ph  cond   alk     sampdat\n",
      "46   32.7291   -86.0703   4 - 8 FT     22.0  7.1  32.0  0.24  1976/08/11\n",
      "48   32.7291   -86.0703  8 - 16 FT     19.0  7.3  30.0  0.18  1976/10/03\n"
     ]
    }
   ],
   "source": [
    "#declare varaiable for function\n",
    "dup_df = get_duplicate_long_latitude()\n",
    "#declare variable for the random range\n",
    "rand_index = random.randrange(len(dup_df))\n",
    "get_random_row = dup_df.iloc[[rand_index]]\n",
    "duplicate_row_by_latitude = get_diff_value_by_latitude(get_random_row['latitude'].values[0])\n",
    "column_array = ['strdpthc',\n",
    "    'strwdthc',\n",
    "    'latitude', \n",
    "    'longitude',\n",
    "    'wtrlevel',\n",
    "    'weather',\n",
    "    'wtrtemp',\n",
    "    'ph',\n",
    "    'cond',\n",
    "    'alk',\n",
    "    'sedtype',\n",
    "    'sedcolr',\n",
    "    'strflowc',\n",
    "    'wtrcolr',\n",
    "    'sampdat',\n",
    "                \n",
    "]\n",
    "\n",
    "df_new_data = duplicate_row_by_latitude[column_array]\n",
    "different_column = [\n",
    "    'latitude', \n",
    "    'longitude',\n",
    "    \n",
    "    \n",
    "]\n",
    "for i in df_new_data:\n",
    "    value1 = (df_new_data.iloc[[0][0]][i])\n",
    "    value2 = (df_new_data.iloc[[1][0]][i])\n",
    "    if str(value1) != \"nan\" and str(value2) != \"nan\":\n",
    "        if value1 != value2:\n",
    "            different_column.append(i)\n",
    "print(duplicate_row_by_latitude[different_column])    \n",
    "    "
   ]
  },
  {
   "cell_type": "code",
   "execution_count": 214,
   "id": "880bbd6f",
   "metadata": {},
   "outputs": [
    {
     "name": "stdout",
     "output_type": "stream",
     "text": [
      "0     24.0\n",
      "1     22.0\n",
      "2     22.0\n",
      "3     24.0\n",
      "4     24.0\n",
      "5     19.0\n",
      "6     25.0\n",
      "7     30.0\n",
      "8     25.0\n",
      "9     23.0\n",
      "10    19.0\n",
      "11    23.0\n",
      "12    20.0\n",
      "13    21.0\n",
      "14    19.0\n",
      "15    21.0\n",
      "16     NaN\n",
      "17     NaN\n",
      "18     NaN\n",
      "19     NaN\n",
      "20     NaN\n",
      "21     NaN\n",
      "22     NaN\n",
      "23     NaN\n",
      "24     NaN\n",
      "25     NaN\n",
      "26     NaN\n",
      "27     NaN\n",
      "28     NaN\n",
      "29     NaN\n",
      "30    22.0\n",
      "31    26.0\n",
      "32     NaN\n",
      "33    23.0\n",
      "34    26.0\n",
      "35     NaN\n",
      "36    29.0\n",
      "37     NaN\n",
      "38    28.0\n",
      "39    23.0\n",
      "40     NaN\n",
      "41    23.0\n",
      "42    22.0\n",
      "43    24.0\n",
      "44    22.0\n",
      "45    21.0\n",
      "46    22.0\n",
      "47    30.0\n",
      "48    19.0\n",
      "49    23.0\n",
      "50    22.0\n",
      "51    21.0\n",
      "52    22.0\n",
      "53    23.0\n",
      "54    23.0\n",
      "55    21.0\n",
      "Name: wtrtemp, dtype: float64\n"
     ]
    }
   ],
   "source": [
    "wtrtemp_data =dup_df[\"wtrtemp\"]\n",
    "print(wtrtemp_data)"
   ]
  },
  {
   "cell_type": "code",
   "execution_count": 215,
   "id": "7d793f8c",
   "metadata": {},
   "outputs": [
    {
     "name": "stdout",
     "output_type": "stream",
     "text": [
      "15.642857142857142\n"
     ]
    }
   ],
   "source": [
    "dup_df['wtrtemp'] = dup_df['wtrtemp'].replace(np.nan, 0)\n",
    "print(dup_df['wtrtemp'].mean())\n"
   ]
  },
  {
   "cell_type": "code",
   "execution_count": 216,
   "id": "aaee5326",
   "metadata": {},
   "outputs": [
    {
     "data": {
      "text/plain": [
       "count    56.000000\n",
       "mean     15.642857\n",
       "std      11.103527\n",
       "min       0.000000\n",
       "25%       0.000000\n",
       "50%      21.500000\n",
       "75%      23.000000\n",
       "max      30.000000\n",
       "Name: wtrtemp, dtype: float64"
      ]
     },
     "execution_count": 216,
     "metadata": {},
     "output_type": "execute_result"
    }
   ],
   "source": [
    "(dup_df['wtrtemp'].describe())"
   ]
  },
  {
   "cell_type": "code",
   "execution_count": 228,
   "id": "ac8a63ec",
   "metadata": {
    "scrolled": true
   },
   "outputs": [
    {
     "name": "stdout",
     "output_type": "stream",
     "text": [
      "33.589285714285715\n"
     ]
    }
   ],
   "source": [
    "dup_df['cond'] = dup_df['cond'].replace(np.nan, 0)#replace NaN value with 0\n",
    "print(dup_df['cond'].mean())"
   ]
  },
  {
   "cell_type": "code",
   "execution_count": 229,
   "id": "37cc66ee",
   "metadata": {},
   "outputs": [
    {
     "data": {
      "text/plain": [
       "count     56.000000\n",
       "mean      33.589286\n",
       "std       69.229993\n",
       "min        0.000000\n",
       "25%        0.000000\n",
       "50%       20.000000\n",
       "75%       30.250000\n",
       "max      480.000000\n",
       "Name: cond, dtype: float64"
      ]
     },
     "execution_count": 229,
     "metadata": {},
     "output_type": "execute_result"
    }
   ],
   "source": [
    "(dup_df['cond'].describe())"
   ]
  },
  {
   "cell_type": "code",
   "execution_count": 230,
   "id": "d57a598b",
   "metadata": {
    "scrolled": false
   },
   "outputs": [
    {
     "name": "stdout",
     "output_type": "stream",
     "text": [
      "count    56.000000\n",
      "mean      4.537500\n",
      "std       3.208033\n",
      "min       0.000000\n",
      "25%       0.000000\n",
      "50%       6.050000\n",
      "75%       7.025000\n",
      "max       7.800000\n",
      "Name: ph, dtype: float64\n"
     ]
    }
   ],
   "source": [
    "dup_df['ph'] = dup_df['ph'].replace(np.nan, 0)\n",
    "print(dup_df['ph'].describe())"
   ]
  },
  {
   "cell_type": "code",
   "execution_count": 231,
   "id": "504c0f96",
   "metadata": {},
   "outputs": [
    {
     "data": {
      "text/html": [
       "<div>\n",
       "<style scoped>\n",
       "    .dataframe tbody tr th:only-of-type {\n",
       "        vertical-align: middle;\n",
       "    }\n",
       "\n",
       "    .dataframe tbody tr th {\n",
       "        vertical-align: top;\n",
       "    }\n",
       "\n",
       "    .dataframe thead th {\n",
       "        text-align: right;\n",
       "    }\n",
       "</style>\n",
       "<table border=\"1\" class=\"dataframe\">\n",
       "  <thead>\n",
       "    <tr style=\"text-align: right;\">\n",
       "      <th></th>\n",
       "      <th>mean</th>\n",
       "      <th>median</th>\n",
       "      <th>column_name</th>\n",
       "    </tr>\n",
       "  </thead>\n",
       "  <tbody>\n",
       "    <tr>\n",
       "      <th>0</th>\n",
       "      <td>15.642857</td>\n",
       "      <td>21.50</td>\n",
       "      <td>wtrtemp</td>\n",
       "    </tr>\n",
       "    <tr>\n",
       "      <th>1</th>\n",
       "      <td>33.589286</td>\n",
       "      <td>20.00</td>\n",
       "      <td>cond</td>\n",
       "    </tr>\n",
       "    <tr>\n",
       "      <th>2</th>\n",
       "      <td>4.537500</td>\n",
       "      <td>6.05</td>\n",
       "      <td>ph</td>\n",
       "    </tr>\n",
       "  </tbody>\n",
       "</table>\n",
       "</div>"
      ],
      "text/plain": [
       "        mean  median column_name\n",
       "0  15.642857   21.50     wtrtemp\n",
       "1  33.589286   20.00        cond\n",
       "2   4.537500    6.05          ph"
      ]
     },
     "execution_count": 231,
     "metadata": {},
     "output_type": "execute_result"
    }
   ],
   "source": [
    "df= ({'mean':[15.642857,  33.589286, 4.537500],\n",
    "           'median':[21.500000, 20.000000, 6.050000],\n",
    "           'column_name': ['wtrtemp', 'cond', 'ph']})\n",
    "df1 = pd.DataFrame(df)\n",
    "df1\n",
    "\n",
    "\n",
    "\n"
   ]
  },
  {
   "cell_type": "code",
   "execution_count": 232,
   "id": "ed25605a",
   "metadata": {},
   "outputs": [
    {
     "data": {
      "text/plain": [
       "<AxesSubplot:ylabel='Frequency'>"
      ]
     },
     "execution_count": 232,
     "metadata": {},
     "output_type": "execute_result"
    }
   ],
   "source": []
  },
  {
   "cell_type": "code",
   "execution_count": 234,
   "id": "4eee8f9a",
   "metadata": {},
   "outputs": [
    {
     "data": {
      "text/html": [
       "<div>\n",
       "<style scoped>\n",
       "    .dataframe tbody tr th:only-of-type {\n",
       "        vertical-align: middle;\n",
       "    }\n",
       "\n",
       "    .dataframe tbody tr th {\n",
       "        vertical-align: top;\n",
       "    }\n",
       "\n",
       "    .dataframe thead th {\n",
       "        text-align: right;\n",
       "    }\n",
       "</style>\n",
       "<table border=\"1\" class=\"dataframe\">\n",
       "  <thead>\n",
       "    <tr style=\"text-align: right;\">\n",
       "      <th></th>\n",
       "      <th>mean</th>\n",
       "      <th>median</th>\n",
       "      <th>column_name</th>\n",
       "    </tr>\n",
       "  </thead>\n",
       "  <tbody>\n",
       "    <tr>\n",
       "      <th>2</th>\n",
       "      <td>4.537500</td>\n",
       "      <td>6.05</td>\n",
       "      <td>ph</td>\n",
       "    </tr>\n",
       "    <tr>\n",
       "      <th>0</th>\n",
       "      <td>15.642857</td>\n",
       "      <td>21.50</td>\n",
       "      <td>wtrtemp</td>\n",
       "    </tr>\n",
       "    <tr>\n",
       "      <th>1</th>\n",
       "      <td>33.589286</td>\n",
       "      <td>20.00</td>\n",
       "      <td>cond</td>\n",
       "    </tr>\n",
       "  </tbody>\n",
       "</table>\n",
       "</div>"
      ],
      "text/plain": [
       "        mean  median column_name\n",
       "2   4.537500    6.05          ph\n",
       "0  15.642857   21.50     wtrtemp\n",
       "1  33.589286   20.00        cond"
      ]
     },
     "execution_count": 234,
     "metadata": {},
     "output_type": "execute_result"
    }
   ],
   "source": [
    "mean = df1.sort_values(by=['mean'])\n",
    "mean"
   ]
  },
  {
   "cell_type": "code",
   "execution_count": 235,
   "id": "0d11f2cd",
   "metadata": {},
   "outputs": [
    {
     "data": {
      "text/plain": [
       "<AxesSubplot:>"
      ]
     },
     "execution_count": 235,
     "metadata": {},
     "output_type": "execute_result"
    }
   ],
   "source": [
    "mean.plot(kind='bar')"
   ]
  },
  {
   "cell_type": "code",
   "execution_count": null,
   "id": "42671dc4",
   "metadata": {},
   "outputs": [],
   "source": [
    " "
   ]
  },
  {
   "cell_type": "code",
   "execution_count": null,
   "id": "06bf2591",
   "metadata": {},
   "outputs": [],
   "source": []
  },
  {
   "cell_type": "code",
   "execution_count": null,
   "id": "de1586bf",
   "metadata": {},
   "outputs": [],
   "source": []
  },
  {
   "cell_type": "code",
   "execution_count": null,
   "id": "72ac105a",
   "metadata": {},
   "outputs": [],
   "source": []
  }
 ],
 "metadata": {
  "kernelspec": {
   "display_name": "Python 3 (ipykernel)",
   "language": "python",
   "name": "python3"
  },
  "language_info": {
   "codemirror_mode": {
    "name": "ipython",
    "version": 3
   },
   "file_extension": ".py",
   "mimetype": "text/x-python",
   "name": "python",
   "nbconvert_exporter": "python",
   "pygments_lexer": "ipython3",
   "version": "3.9.7"
  }
 },
 "nbformat": 4,
 "nbformat_minor": 5
}
