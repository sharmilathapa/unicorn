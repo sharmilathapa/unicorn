{
 "cells": [
  {
   "cell_type": "code",
   "execution_count": 210,
   "id": "dbba5596",
   "metadata": {},
   "outputs": [],
   "source": [
    "import pandas as pd\n",
    "import numpy as np\n",
    "#from pathlib import Path\n",
    "import matplotlib.pyplot as plt\n",
    "import random\n",
    "#create df_all variable\n",
    "df_all = pd.read_csv('nuresed-fUS01.csv')\n",
    "def get_duplicate_long_latitude():\n",
    "    duplicate_data = df_all[df_all.duplicated(subset=['latitude', 'longitude'], keep=False)]\n",
    "    return duplicate_data   "
   ]
  },
  {
   "cell_type": "code",
   "execution_count": null,
   "id": "140595fb",
   "metadata": {},
   "outputs": [],
   "source": []
  },
  {
   "cell_type": "code",
   "execution_count": 211,
   "id": "0483fff3",
   "metadata": {},
   "outputs": [
    {
     "name": "stdout",
     "output_type": "stream",
     "text": [
      "                         methods wtrlevel     sampdat  samptyp\n",
      "13  SR1, SR2, SR3-AA;CA;FE;XU;XX   NORMAL  1976/07/10       50\n",
      "4   SR1, SR2, SR3-AA;CA;FE;XU;XX   NORMAL  1976/08/15       50\n",
      "55  SR1, SR2, SR3-AA;CA;FE;XU;XX   NORMAL  1976/07/03       50\n",
      "21                      SR1, SR2      DRY  1976/08/03       50\n",
      "46     SR1, SR2, SR3-AA;CA;FE;XU   NORMAL  1976/08/11       50\n"
     ]
    }
   ],
   "source": [
    "#create function def get_random and pass the colume name as array\n",
    "def get_random(colume_name=[]):\n",
    "    \n",
    "# get duplicate value \n",
    "    dup_df = get_duplicate_long_latitude()\n",
    "    \n",
    "#create to get ramdon number 5\n",
    "    num_of_data_sample = dup_df.sample(n=5)\n",
    "    \n",
    "#return (\"colume Name is empyt!! Column one or more column name requires\")\n",
    "    return (num_of_data_sample[colume_name])\n",
    "#name of the colume \n",
    "\n",
    "Name_of_col_to_get_value = [\"methods\",\"wtrlevel\",\"sampdat\",\"samptyp\"]                    \n",
    "print(get_random(Name_of_col_to_get_value))\n",
    "#print(get_sample_wtrlevel_samptyp([\"wtrlevel\"]))\n"
   ]
  },
  {
   "cell_type": "code",
   "execution_count": null,
   "id": "400bdfab",
   "metadata": {},
   "outputs": [],
   "source": []
  },
  {
   "cell_type": "code",
   "execution_count": null,
   "id": "f7088477",
   "metadata": {},
   "outputs": [],
   "source": [
    "\n"
   ]
  },
  {
   "cell_type": "code",
   "execution_count": 212,
   "id": "4968af93",
   "metadata": {},
   "outputs": [],
   "source": [
    "def get_diff_value_by_latitude(latitude):\n",
    "    Sample_dup = get_duplicate_long_latitude()\n",
    "    new_df = Sample_dup.loc[Sample_dup ['latitude'] == latitude]\n",
    "    return new_df"
   ]
  },
  {
   "cell_type": "code",
   "execution_count": null,
   "id": "699a8323",
   "metadata": {},
   "outputs": [],
   "source": []
  },
  {
   "cell_type": "code",
   "execution_count": 213,
   "id": "6043e014",
   "metadata": {},
   "outputs": [
    {
     "name": "stdout",
     "output_type": "stream",
     "text": [
      "    latitude  longitude   strwdthc  wtrtemp   ph  cond   alk     sampdat\n",
      "46   32.7291   -86.0703   4 - 8 FT     22.0  7.1  32.0  0.24  1976/08/11\n",
      "48   32.7291   -86.0703  8 - 16 FT     19.0  7.3  30.0  0.18  1976/10/03\n"
     ]
    }
   ],
   "source": [
    "#declare varaiable for function\n",
    "dup_df = get_duplicate_long_latitude()\n",
    "#declare variable for the random range\n",
    "rand_index = random.randrange(len(dup_df))\n",
    "get_random_row = dup_df.iloc[[rand_index]]\n",
    "duplicate_row_by_latitude = get_diff_value_by_latitude(get_random_row['latitude'].values[0])\n",
    "column_array = ['strdpthc',\n",
    "    'strwdthc',\n",
    "    'latitude', \n",
    "    'longitude',\n",
    "    'wtrlevel',\n",
    "    'weather',\n",
    "    'wtrtemp',\n",
    "    'ph',\n",
    "    'cond',\n",
    "    'alk',\n",
    "    'sedtype',\n",
    "    'sedcolr',\n",
    "    'strflowc',\n",
    "    'wtrcolr',\n",
    "    'sampdat',\n",
    "                \n",
    "]\n",
    "\n",
    "df_new_data = duplicate_row_by_latitude[column_array]\n",
    "different_column = [\n",
    "    'latitude', \n",
    "    'longitude',\n",
    "    \n",
    "    \n",
    "]\n",
    "for i in df_new_data:\n",
    "    value1 = (df_new_data.iloc[[0][0]][i])\n",
    "    value2 = (df_new_data.iloc[[1][0]][i])\n",
    "    if str(value1) != \"nan\" and str(value2) != \"nan\":\n",
    "        if value1 != value2:\n",
    "            different_column.append(i)\n",
    "print(duplicate_row_by_latitude[different_column])    \n",
    "    "
   ]
  },
  {
   "cell_type": "code",
   "execution_count": 214,
   "id": "880bbd6f",
   "metadata": {},
   "outputs": [
    {
     "name": "stdout",
     "output_type": "stream",
     "text": [
      "0     24.0\n",
      "1     22.0\n",
      "2     22.0\n",
      "3     24.0\n",
      "4     24.0\n",
      "5     19.0\n",
      "6     25.0\n",
      "7     30.0\n",
      "8     25.0\n",
      "9     23.0\n",
      "10    19.0\n",
      "11    23.0\n",
      "12    20.0\n",
      "13    21.0\n",
      "14    19.0\n",
      "15    21.0\n",
      "16     NaN\n",
      "17     NaN\n",
      "18     NaN\n",
      "19     NaN\n",
      "20     NaN\n",
      "21     NaN\n",
      "22     NaN\n",
      "23     NaN\n",
      "24     NaN\n",
      "25     NaN\n",
      "26     NaN\n",
      "27     NaN\n",
      "28     NaN\n",
      "29     NaN\n",
      "30    22.0\n",
      "31    26.0\n",
      "32     NaN\n",
      "33    23.0\n",
      "34    26.0\n",
      "35     NaN\n",
      "36    29.0\n",
      "37     NaN\n",
      "38    28.0\n",
      "39    23.0\n",
      "40     NaN\n",
      "41    23.0\n",
      "42    22.0\n",
      "43    24.0\n",
      "44    22.0\n",
      "45    21.0\n",
      "46    22.0\n",
      "47    30.0\n",
      "48    19.0\n",
      "49    23.0\n",
      "50    22.0\n",
      "51    21.0\n",
      "52    22.0\n",
      "53    23.0\n",
      "54    23.0\n",
      "55    21.0\n",
      "Name: wtrtemp, dtype: float64\n"
     ]
    }
   ],
   "source": [
    "wtrtemp_data =dup_df[\"wtrtemp\"]\n",
    "print(wtrtemp_data)"
   ]
  },
  {
   "cell_type": "code",
   "execution_count": 215,
   "id": "7d793f8c",
   "metadata": {},
   "outputs": [
    {
     "name": "stdout",
     "output_type": "stream",
     "text": [
      "15.642857142857142\n"
     ]
    }
   ],
   "source": [
    "dup_df['wtrtemp'] = dup_df['wtrtemp'].replace(np.nan, 0)\n",
    "print(dup_df['wtrtemp'].mean())\n"
   ]
  },
  {
   "cell_type": "code",
   "execution_count": 216,
   "id": "aaee5326",
   "metadata": {},
   "outputs": [
    {
     "data": {
      "text/plain": [
       "count    56.000000\n",
       "mean     15.642857\n",
       "std      11.103527\n",
       "min       0.000000\n",
       "25%       0.000000\n",
       "50%      21.500000\n",
       "75%      23.000000\n",
       "max      30.000000\n",
       "Name: wtrtemp, dtype: float64"
      ]
     },
     "execution_count": 216,
     "metadata": {},
     "output_type": "execute_result"
    }
   ],
   "source": [
    "(dup_df['wtrtemp'].describe())"
   ]
  },
  {
   "cell_type": "code",
   "execution_count": 228,
   "id": "ac8a63ec",
   "metadata": {
    "scrolled": true
   },
   "outputs": [
    {
     "name": "stdout",
     "output_type": "stream",
     "text": [
      "33.589285714285715\n"
     ]
    }
   ],
   "source": [
    "dup_df['cond'] = dup_df['cond'].replace(np.nan, 0)#replace NaN value with 0\n",
    "print(dup_df['cond'].mean())"
   ]
  },
  {
   "cell_type": "code",
   "execution_count": 229,
   "id": "37cc66ee",
   "metadata": {},
   "outputs": [
    {
     "data": {
      "text/plain": [
       "count     56.000000\n",
       "mean      33.589286\n",
       "std       69.229993\n",
       "min        0.000000\n",
       "25%        0.000000\n",
       "50%       20.000000\n",
       "75%       30.250000\n",
       "max      480.000000\n",
       "Name: cond, dtype: float64"
      ]
     },
     "execution_count": 229,
     "metadata": {},
     "output_type": "execute_result"
    }
   ],
   "source": [
    "(dup_df['cond'].describe())"
   ]
  },
  {
   "cell_type": "code",
   "execution_count": 230,
   "id": "d57a598b",
   "metadata": {
    "scrolled": false
   },
   "outputs": [
    {
     "name": "stdout",
     "output_type": "stream",
     "text": [
      "count    56.000000\n",
      "mean      4.537500\n",
      "std       3.208033\n",
      "min       0.000000\n",
      "25%       0.000000\n",
      "50%       6.050000\n",
      "75%       7.025000\n",
      "max       7.800000\n",
      "Name: ph, dtype: float64\n"
     ]
    }
   ],
   "source": [
    "dup_df['ph'] = dup_df['ph'].replace(np.nan, 0)\n",
    "print(dup_df['ph'].describe())"
   ]
  },
  {
   "cell_type": "code",
   "execution_count": 231,
   "id": "504c0f96",
   "metadata": {},
   "outputs": [
    {
     "data": {
      "text/html": [
       "<div>\n",
       "<style scoped>\n",
       "    .dataframe tbody tr th:only-of-type {\n",
       "        vertical-align: middle;\n",
       "    }\n",
       "\n",
       "    .dataframe tbody tr th {\n",
       "        vertical-align: top;\n",
       "    }\n",
       "\n",
       "    .dataframe thead th {\n",
       "        text-align: right;\n",
       "    }\n",
       "</style>\n",
       "<table border=\"1\" class=\"dataframe\">\n",
       "  <thead>\n",
       "    <tr style=\"text-align: right;\">\n",
       "      <th></th>\n",
       "      <th>mean</th>\n",
       "      <th>median</th>\n",
       "      <th>column_name</th>\n",
       "    </tr>\n",
       "  </thead>\n",
       "  <tbody>\n",
       "    <tr>\n",
       "      <th>0</th>\n",
       "      <td>15.642857</td>\n",
       "      <td>21.50</td>\n",
       "      <td>wtrtemp</td>\n",
       "    </tr>\n",
       "    <tr>\n",
       "      <th>1</th>\n",
       "      <td>33.589286</td>\n",
       "      <td>20.00</td>\n",
       "      <td>cond</td>\n",
       "    </tr>\n",
       "    <tr>\n",
       "      <th>2</th>\n",
       "      <td>4.537500</td>\n",
       "      <td>6.05</td>\n",
       "      <td>ph</td>\n",
       "    </tr>\n",
       "  </tbody>\n",
       "</table>\n",
       "</div>"
      ],
      "text/plain": [
       "        mean  median column_name\n",
       "0  15.642857   21.50     wtrtemp\n",
       "1  33.589286   20.00        cond\n",
       "2   4.537500    6.05          ph"
      ]
     },
     "execution_count": 231,
     "metadata": {},
     "output_type": "execute_result"
    }
   ],
   "source": [
    "df= ({'mean':[15.642857,  33.589286, 4.537500],\n",
    "           'median':[21.500000, 20.000000, 6.050000],\n",
    "           'column_name': ['wtrtemp', 'cond', 'ph']})\n",
    "df1 = pd.DataFrame(df)\n",
    "df1\n",
    "\n",
    "\n",
    "\n"
   ]
  },
  {
   "cell_type": "code",
   "execution_count": 232,
   "id": "ed25605a",
   "metadata": {},
   "outputs": [
    {
     "data": {
      "text/plain": [
       "<AxesSubplot:ylabel='Frequency'>"
      ]
     },
     "execution_count": 232,
     "metadata": {},
     "output_type": "execute_result"
    }
   ],
   "source": []
  },
  {
   "cell_type": "code",
   "execution_count": 234,
   "id": "4eee8f9a",
   "metadata": {},
   "outputs": [
    {
     "data": {
      "text/html": [
       "<div>\n",
       "<style scoped>\n",
       "    .dataframe tbody tr th:only-of-type {\n",
       "        vertical-align: middle;\n",
       "    }\n",
       "\n",
       "    .dataframe tbody tr th {\n",
       "        vertical-align: top;\n",
       "    }\n",
       "\n",
       "    .dataframe thead th {\n",
       "        text-align: right;\n",
       "    }\n",
       "</style>\n",
       "<table border=\"1\" class=\"dataframe\">\n",
       "  <thead>\n",
       "    <tr style=\"text-align: right;\">\n",
       "      <th></th>\n",
       "      <th>mean</th>\n",
       "      <th>median</th>\n",
       "      <th>column_name</th>\n",
       "    </tr>\n",
       "  </thead>\n",
       "  <tbody>\n",
       "    <tr>\n",
       "      <th>2</th>\n",
       "      <td>4.537500</td>\n",
       "      <td>6.05</td>\n",
       "      <td>ph</td>\n",
       "    </tr>\n",
       "    <tr>\n",
       "      <th>0</th>\n",
       "      <td>15.642857</td>\n",
       "      <td>21.50</td>\n",
       "      <td>wtrtemp</td>\n",
       "    </tr>\n",
       "    <tr>\n",
       "      <th>1</th>\n",
       "      <td>33.589286</td>\n",
       "      <td>20.00</td>\n",
       "      <td>cond</td>\n",
       "    </tr>\n",
       "  </tbody>\n",
       "</table>\n",
       "</div>"
      ],
      "text/plain": [
       "        mean  median column_name\n",
       "2   4.537500    6.05          ph\n",
       "0  15.642857   21.50     wtrtemp\n",
       "1  33.589286   20.00        cond"
      ]
     },
     "execution_count": 234,
     "metadata": {},
     "output_type": "execute_result"
    }
   ],
   "source": [
    "mean = df1.sort_values(by=['mean'])\n",
    "mean"
   ]
  },
  {
   "cell_type": "code",
   "execution_count": 235,
   "id": "0d11f2cd",
   "metadata": {},
   "outputs": [
    {
     "data": {
      "text/plain": [
       "<AxesSubplot:>"
      ]
     },
     "execution_count": 235,
     "metadata": {},
     "output_type": "execute_result"
    }
   ],
   "source": [
    "mean.plot(kind='bar')"
   ]
  },
  {
   "cell_type": "code",
   "execution_count": null,
   "id": "42671dc4",
   "metadata": {},
   "outputs": [],
   "source": [
    " "
   ]
  },
  {
   "cell_type": "code",
   "execution_count": null,
   "id": "06bf2591",
   "metadata": {},
   "outputs": [],
   "source": []
  },
  {
   "cell_type": "code",
   "execution_count": null,
   "id": "de1586bf",
   "metadata": {},
   "outputs": [],
   "source": []
  },
  {
   "cell_type": "code",
   "execution_count": null,
   "id": "72ac105a",
   "metadata": {},
   "outputs": [],
   "source": []
  }
 ],
 "metadata": {
  "kernelspec": {
   "display_name": "Python 3 (ipykernel)",
   "language": "python",
   "name": "python3"
  },
  "language_info": {
   "codemirror_mode": {
    "name": "ipython",
    "version": 3
   },
   "file_extension": ".py",
   "mimetype": "text/x-python",
   "name": "python",
   "nbconvert_exporter": "python",
   "pygments_lexer": "ipython3",
   "version": "3.9.7"
  }
 },
 "nbformat": 4,
 "nbformat_minor": 5
}
