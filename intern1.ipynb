{
 "cells": [
  {
   "cell_type": "code",
   "execution_count": 10,
   "id": "5172d1d7",
   "metadata": {},
   "outputs": [],
   "source": [
    "import pandas as pd\n",
    "import numpy as np\n",
    "from pathlib import Path\n",
    "import matplotlib.pyplot as plt\n",
    "%matplotlib inline\n",
    "import random\n",
    "from math import sqrt\n",
    "#create df_all variable\n",
    "\n",
    "df_all = pd.read_csv('nuresed.csv', low_memory=False)\n",
    "def get_duplicate_long_latitude():\n",
    "    duplicate_data = df_all[df_all.duplicated(subset=['latitude', 'longitude'], keep=False)]\n",
    "    #filepath = Path('duplicate_nuresed1-fUS01.csv')  \n",
    "    #duplicate_data.to_csv(filepath) \n",
    "    return duplicate_data "
   ]
  },
  {
   "cell_type": "code",
   "execution_count": 11,
   "id": "cd182ec1",
   "metadata": {},
   "outputs": [],
   "source": [
    "def get_diff_value_by_latitude(latitude):\n",
    "    Sample_dup = get_duplicate_long_latitude()\n",
    "    new_df = Sample_dup.loc[Sample_dup ['latitude'] == latitude]\n",
    "    return new_df"
   ]
  },
  {
   "cell_type": "code",
   "execution_count": 12,
   "id": "9905ce00",
   "metadata": {},
   "outputs": [
    {
     "name": "stdout",
     "output_type": "stream",
     "text": [
      "        latitude  longitude\n",
      "203262   31.9587   -110.299\n",
      "203263   31.9587   -110.299\n"
     ]
    }
   ],
   "source": [
    "#declare varaiable for function\n",
    "dup_df = get_duplicate_long_latitude()\n",
    "#declare variable for the random range\n",
    "rand_index = random.randrange(len(dup_df))\n",
    "get_random_row = dup_df.iloc[[rand_index]]\n",
    "duplicate_row_by_latitude = get_diff_value_by_latitude(get_random_row['latitude'].values[0])\n",
    "column_array = ['strdpthc',\n",
    "    'strwdthc',\n",
    "    'latitude', \n",
    "    'longitude',\n",
    "    'wtrlevel',\n",
    "    'weather',\n",
    "    'wtrtemp',\n",
    "    'ph',\n",
    "    'cond',\n",
    "    'alk',\n",
    "    'sedtype',\n",
    "    'sedcolr',\n",
    "    'strflowc',\n",
    "    'wtrcolr',\n",
    "    'sampdat',\n",
    "                \n",
    "]\n",
    "\n",
    "df_new_data = duplicate_row_by_latitude[column_array]\n",
    "different_column = [\n",
    "    'latitude', \n",
    "    'longitude',\n",
    "    \n",
    "    \n",
    "]\n",
    "for i in df_new_data:\n",
    "    value1 = (df_new_data.iloc[[0][0]][i])\n",
    "    value2 = (df_new_data.iloc[[1][0]][i])\n",
    "    if str(value1) != \"nan\" and str(value2) != \"nan\":\n",
    "        if value1 != value2:\n",
    "            different_column.append(i)\n",
    "print(duplicate_row_by_latitude[different_column])    "
   ]
  },
  {
   "cell_type": "code",
   "execution_count": 13,
   "id": "2a74819c",
   "metadata": {},
   "outputs": [],
   "source": [
    "def get_chemical_names(first_chemical_name, second_chemical_name):\n",
    "    chemicals_col_ppm = dup_df.filter(like=first_chemical_name).columns\n",
    "    pct_column = dup_df.filter(like=second_chemical_name).columns\n",
    "    chemicals_col = chemicals_col_ppm.append(pct_column)\n",
    "    return chemicals_col"
   ]
  },
  {
   "cell_type": "code",
   "execution_count": 14,
   "id": "98f18df8",
   "metadata": {},
   "outputs": [],
   "source": [
    "## test git push\n",
    "def negative_number(integer_data):\n",
    "    return integer_data/1.414\n",
    "    \n",
    "    "
   ]
  },
  {
   "cell_type": "code",
   "execution_count": 15,
   "id": "6672e92f",
   "metadata": {},
   "outputs": [
    {
     "name": "stderr",
     "output_type": "stream",
     "text": [
      "C:\\Users\\sharmila\\anaconda3\\lib\\site-packages\\pandas\\core\\indexing.py:1817: SettingWithCopyWarning: \n",
      "A value is trying to be set on a copy of a slice from a DataFrame.\n",
      "Try using .loc[row_indexer,col_indexer] = value instead\n",
      "\n",
      "See the caveats in the documentation: https://pandas.pydata.org/pandas-docs/stable/user_guide/indexing.html#returning-a-view-versus-a-copy\n",
      "  self._setitem_single_column(loc, value, pi)\n"
     ]
    }
   ],
   "source": [
    "dup_df = get_duplicate_long_latitude()\n",
    "\n",
    "#dup_df['u_xx_ppm'] = np.abs(dup_df['u_xx_ppm'])\n",
    "chemical_col = get_chemical_names('ppm', 'pct')\n",
    "\n",
    "\n",
    "for column in chemical_col:\n",
    "    index =0\n",
    "    for each in dup_df[column]:\n",
    "        if str(each) != 'nan':\n",
    "            if each < 0 :\n",
    "                new_value = negative_number(np.abs(dup_df.iloc[index,dup_df.columns.get_loc(column)]))\n",
    "                dup_df.iloc[index,dup_df.columns.get_loc(column)] = new_value\n",
    "\n",
    "        index += 1\n",
    "   # print(chemical_col)\n",
    "\n",
    "\n"
   ]
  },
  {
   "cell_type": "code",
   "execution_count": 16,
   "id": "558dae0c",
   "metadata": {},
   "outputs": [],
   "source": [
    "#dup_df = get_duplicate_long_latitude()\n",
    "#first_dup = dup_df.loc[dup_df['latitude']==45.0936]\n",
    "#value_count = dup_df[\"latitude\"].value_counts()\n",
    "\n",
    "\n",
    "unique_doelab = dup_df['doelab'].unique()\n",
    "#print(unique_doelab)\n",
    "\n",
    "lasl = dup_df.loc[dup_df['doelab'] == unique_doelab[0]]\n",
    "LLL = dup_df.loc[dup_df['doelab'] == unique_doelab[1]]\n",
    "SRL_W = dup_df.loc[dup_df['doelab'] == unique_doelab[2]]\n",
    "ORGDP = dup_df.loc[dup_df['doelab'] == unique_doelab[3]]\n",
    "SRL_E = dup_df.loc[dup_df['doelab'] == unique_doelab[4]]\n",
    "data = []"
   ]
  },
  {
   "cell_type": "code",
   "execution_count": null,
   "id": "a1d4bb78",
   "metadata": {},
   "outputs": [],
   "source": []
  },
  {
   "cell_type": "code",
   "execution_count": 17,
   "id": "4a8316bf",
   "metadata": {
    "scrolled": false
   },
   "outputs": [],
   "source": [
    "def get_value(location, valuetype):\n",
    "    chemicals_col_ppm = dup_df.filter(like='ppm').columns\n",
    "    pct_column = dup_df.filter(like='pct').columns\n",
    "    chemicals_col = chemicals_col_ppm.append(pct_column)\n",
    "    \n",
    "    data2=[]\n",
    "    for each in chemicals_col:\n",
    "        df_get = f\"{location}[[each]].{valuetype}()\"\n",
    "        df_value= eval(df_get)\n",
    "        data2.append([location,each,df_value[0]])\n",
    "    df2 = pd.DataFrame(data2, columns = ['location','chemical_name', f\"values-{valuetype}\"])\n",
    "    return df2\n",
    "   \n",
    "\n",
    "\n",
    "\n"
   ]
  },
  {
   "cell_type": "code",
   "execution_count": null,
   "id": "c09e2fc2",
   "metadata": {},
   "outputs": [],
   "source": []
  },
  {
   "cell_type": "code",
   "execution_count": 18,
   "id": "41145bd7",
   "metadata": {
    "scrolled": true
   },
   "outputs": [
    {
     "data": {
      "text/html": [
       "<div>\n",
       "<style scoped>\n",
       "    .dataframe tbody tr th:only-of-type {\n",
       "        vertical-align: middle;\n",
       "    }\n",
       "\n",
       "    .dataframe tbody tr th {\n",
       "        vertical-align: top;\n",
       "    }\n",
       "\n",
       "    .dataframe thead th {\n",
       "        text-align: right;\n",
       "    }\n",
       "</style>\n",
       "<table border=\"1\" class=\"dataframe\">\n",
       "  <thead>\n",
       "    <tr style=\"text-align: right;\">\n",
       "      <th></th>\n",
       "      <th>location</th>\n",
       "      <th>chemical_name</th>\n",
       "      <th>values-mean</th>\n",
       "    </tr>\n",
       "  </thead>\n",
       "  <tbody>\n",
       "    <tr>\n",
       "      <th>0</th>\n",
       "      <td>lasl</td>\n",
       "      <td>u_xx_ppm</td>\n",
       "      <td>3.667722</td>\n",
       "    </tr>\n",
       "    <tr>\n",
       "      <th>1</th>\n",
       "      <td>lasl</td>\n",
       "      <td>u_dn_ppm</td>\n",
       "      <td>5.244336</td>\n",
       "    </tr>\n",
       "    <tr>\n",
       "      <th>2</th>\n",
       "      <td>lasl</td>\n",
       "      <td>u_fl_ppm</td>\n",
       "      <td>NaN</td>\n",
       "    </tr>\n",
       "    <tr>\n",
       "      <th>3</th>\n",
       "      <td>lasl</td>\n",
       "      <td>u_ms_ppm</td>\n",
       "      <td>NaN</td>\n",
       "    </tr>\n",
       "    <tr>\n",
       "      <th>4</th>\n",
       "      <td>lasl</td>\n",
       "      <td>u_na_ppm</td>\n",
       "      <td>NaN</td>\n",
       "    </tr>\n",
       "    <tr>\n",
       "      <th>...</th>\n",
       "      <td>...</td>\n",
       "      <td>...</td>\n",
       "      <td>...</td>\n",
       "    </tr>\n",
       "    <tr>\n",
       "      <th>56</th>\n",
       "      <td>lasl</td>\n",
       "      <td>ca_pct</td>\n",
       "      <td>1.694994</td>\n",
       "    </tr>\n",
       "    <tr>\n",
       "      <th>57</th>\n",
       "      <td>lasl</td>\n",
       "      <td>fe_pct</td>\n",
       "      <td>3.494339</td>\n",
       "    </tr>\n",
       "    <tr>\n",
       "      <th>58</th>\n",
       "      <td>lasl</td>\n",
       "      <td>k_pct</td>\n",
       "      <td>1.563363</td>\n",
       "    </tr>\n",
       "    <tr>\n",
       "      <th>59</th>\n",
       "      <td>lasl</td>\n",
       "      <td>mg_pct</td>\n",
       "      <td>1.275426</td>\n",
       "    </tr>\n",
       "    <tr>\n",
       "      <th>60</th>\n",
       "      <td>lasl</td>\n",
       "      <td>na_pct</td>\n",
       "      <td>1.164543</td>\n",
       "    </tr>\n",
       "  </tbody>\n",
       "</table>\n",
       "<p>61 rows × 3 columns</p>\n",
       "</div>"
      ],
      "text/plain": [
       "   location chemical_name  values-mean\n",
       "0      lasl      u_xx_ppm     3.667722\n",
       "1      lasl      u_dn_ppm     5.244336\n",
       "2      lasl      u_fl_ppm          NaN\n",
       "3      lasl      u_ms_ppm          NaN\n",
       "4      lasl      u_na_ppm          NaN\n",
       "..      ...           ...          ...\n",
       "56     lasl        ca_pct     1.694994\n",
       "57     lasl        fe_pct     3.494339\n",
       "58     lasl         k_pct     1.563363\n",
       "59     lasl        mg_pct     1.275426\n",
       "60     lasl        na_pct     1.164543\n",
       "\n",
       "[61 rows x 3 columns]"
      ]
     },
     "execution_count": 18,
     "metadata": {},
     "output_type": "execute_result"
    }
   ],
   "source": [
    "df = get_value(\"lasl\",\"mean\")\n",
    "#print(df.count())\n",
    "#print(df.head(30))\n",
    "df\n"
   ]
  },
  {
   "cell_type": "code",
   "execution_count": 19,
   "id": "2a40d104",
   "metadata": {},
   "outputs": [
    {
     "data": {
      "text/html": [
       "<div>\n",
       "<style scoped>\n",
       "    .dataframe tbody tr th:only-of-type {\n",
       "        vertical-align: middle;\n",
       "    }\n",
       "\n",
       "    .dataframe tbody tr th {\n",
       "        vertical-align: top;\n",
       "    }\n",
       "\n",
       "    .dataframe thead th {\n",
       "        text-align: right;\n",
       "    }\n",
       "</style>\n",
       "<table border=\"1\" class=\"dataframe\">\n",
       "  <thead>\n",
       "    <tr style=\"text-align: right;\">\n",
       "      <th></th>\n",
       "      <th>location</th>\n",
       "      <th>chemical_name</th>\n",
       "      <th>values-median</th>\n",
       "    </tr>\n",
       "  </thead>\n",
       "  <tbody>\n",
       "    <tr>\n",
       "      <th>0</th>\n",
       "      <td>lasl</td>\n",
       "      <td>u_xx_ppm</td>\n",
       "      <td>2.85000</td>\n",
       "    </tr>\n",
       "    <tr>\n",
       "      <th>1</th>\n",
       "      <td>lasl</td>\n",
       "      <td>u_dn_ppm</td>\n",
       "      <td>3.12000</td>\n",
       "    </tr>\n",
       "    <tr>\n",
       "      <th>2</th>\n",
       "      <td>lasl</td>\n",
       "      <td>u_fl_ppm</td>\n",
       "      <td>NaN</td>\n",
       "    </tr>\n",
       "    <tr>\n",
       "      <th>3</th>\n",
       "      <td>lasl</td>\n",
       "      <td>u_ms_ppm</td>\n",
       "      <td>NaN</td>\n",
       "    </tr>\n",
       "    <tr>\n",
       "      <th>4</th>\n",
       "      <td>lasl</td>\n",
       "      <td>u_na_ppm</td>\n",
       "      <td>NaN</td>\n",
       "    </tr>\n",
       "    <tr>\n",
       "      <th>...</th>\n",
       "      <td>...</td>\n",
       "      <td>...</td>\n",
       "      <td>...</td>\n",
       "    </tr>\n",
       "    <tr>\n",
       "      <th>56</th>\n",
       "      <td>lasl</td>\n",
       "      <td>ca_pct</td>\n",
       "      <td>1.15800</td>\n",
       "    </tr>\n",
       "    <tr>\n",
       "      <th>57</th>\n",
       "      <td>lasl</td>\n",
       "      <td>fe_pct</td>\n",
       "      <td>2.84400</td>\n",
       "    </tr>\n",
       "    <tr>\n",
       "      <th>58</th>\n",
       "      <td>lasl</td>\n",
       "      <td>k_pct</td>\n",
       "      <td>1.47000</td>\n",
       "    </tr>\n",
       "    <tr>\n",
       "      <th>59</th>\n",
       "      <td>lasl</td>\n",
       "      <td>mg_pct</td>\n",
       "      <td>1.08025</td>\n",
       "    </tr>\n",
       "    <tr>\n",
       "      <th>60</th>\n",
       "      <td>lasl</td>\n",
       "      <td>na_pct</td>\n",
       "      <td>1.12500</td>\n",
       "    </tr>\n",
       "  </tbody>\n",
       "</table>\n",
       "<p>61 rows × 3 columns</p>\n",
       "</div>"
      ],
      "text/plain": [
       "   location chemical_name  values-median\n",
       "0      lasl      u_xx_ppm        2.85000\n",
       "1      lasl      u_dn_ppm        3.12000\n",
       "2      lasl      u_fl_ppm            NaN\n",
       "3      lasl      u_ms_ppm            NaN\n",
       "4      lasl      u_na_ppm            NaN\n",
       "..      ...           ...            ...\n",
       "56     lasl        ca_pct        1.15800\n",
       "57     lasl        fe_pct        2.84400\n",
       "58     lasl         k_pct        1.47000\n",
       "59     lasl        mg_pct        1.08025\n",
       "60     lasl        na_pct        1.12500\n",
       "\n",
       "[61 rows x 3 columns]"
      ]
     },
     "execution_count": 19,
     "metadata": {},
     "output_type": "execute_result"
    }
   ],
   "source": [
    "df = get_value(\"lasl\",\"median\")\n",
    "#print(df.count())\n",
    "#\n",
    "#print(df.head(30))\n",
    "df"
   ]
  },
  {
   "cell_type": "code",
   "execution_count": 20,
   "id": "ad021074",
   "metadata": {},
   "outputs": [
    {
     "data": {
      "text/html": [
       "<div>\n",
       "<style scoped>\n",
       "    .dataframe tbody tr th:only-of-type {\n",
       "        vertical-align: middle;\n",
       "    }\n",
       "\n",
       "    .dataframe tbody tr th {\n",
       "        vertical-align: top;\n",
       "    }\n",
       "\n",
       "    .dataframe thead th {\n",
       "        text-align: right;\n",
       "    }\n",
       "</style>\n",
       "<table border=\"1\" class=\"dataframe\">\n",
       "  <thead>\n",
       "    <tr style=\"text-align: right;\">\n",
       "      <th></th>\n",
       "      <th>mean</th>\n",
       "      <th>median</th>\n",
       "      <th>column_name</th>\n",
       "    </tr>\n",
       "  </thead>\n",
       "  <tbody>\n",
       "    <tr>\n",
       "      <th>0</th>\n",
       "      <td>3.667722</td>\n",
       "      <td>2.85</td>\n",
       "      <td>u_xx_ppm</td>\n",
       "    </tr>\n",
       "  </tbody>\n",
       "</table>\n",
       "</div>"
      ],
      "text/plain": [
       "       mean  median column_name\n",
       "0  3.667722    2.85    u_xx_ppm"
      ]
     },
     "execution_count": 20,
     "metadata": {},
     "output_type": "execute_result"
    }
   ],
   "source": [
    "u_xx_ppm_df= ({'mean':[  3.667722 ],\n",
    "           'median':[2.85000],\n",
    "           'column_name': ['u_xx_ppm']})\n",
    "u_xx_ppm = pd.DataFrame(u_xx_ppm_df)\n",
    "\n",
    "u_xx_ppm"
   ]
  },
  {
   "cell_type": "code",
   "execution_count": 21,
   "id": "dc33e4b0",
   "metadata": {},
   "outputs": [
    {
     "data": {
      "text/plain": [
       "<AxesSubplot:>"
      ]
     },
     "execution_count": 21,
     "metadata": {},
     "output_type": "execute_result"
    },
    {
     "data": {
      "image/png": "[encoded data removed]",
      "text/plain": [
       "<Figure size 432x288 with 1 Axes>"
      ]
     },
     "metadata": {
      "needs_background": "light"
     },
     "output_type": "display_data"
    }
   ],
   "source": [
    "u_xx_ppm.plot.bar()\n"
   ]
  },
  {
   "cell_type": "code",
   "execution_count": 23,
   "id": "d49e751b",
   "metadata": {},
   "outputs": [
    {
     "data": {
      "text/html": [
       "<div>\n",
       "<style scoped>\n",
       "    .dataframe tbody tr th:only-of-type {\n",
       "        vertical-align: middle;\n",
       "    }\n",
       "\n",
       "    .dataframe tbody tr th {\n",
       "        vertical-align: top;\n",
       "    }\n",
       "\n",
       "    .dataframe thead th {\n",
       "        text-align: right;\n",
       "    }\n",
       "</style>\n",
       "<table border=\"1\" class=\"dataframe\">\n",
       "  <thead>\n",
       "    <tr style=\"text-align: right;\">\n",
       "      <th></th>\n",
       "      <th>mean</th>\n",
       "      <th>median</th>\n",
       "      <th>column_name</th>\n",
       "    </tr>\n",
       "  </thead>\n",
       "  <tbody>\n",
       "    <tr>\n",
       "      <th>0</th>\n",
       "      <td>8.408918</td>\n",
       "      <td>7.0</td>\n",
       "      <td>as_ppm</td>\n",
       "    </tr>\n",
       "  </tbody>\n",
       "</table>\n",
       "</div>"
      ],
      "text/plain": [
       "       mean  median column_name\n",
       "0  8.408918     7.0      as_ppm"
      ]
     },
     "execution_count": 23,
     "metadata": {},
     "output_type": "execute_result"
    }
   ],
   "source": [
    "as_ppm_df= ({'mean':[ 8.408918],\n",
    "           'median':[ 7.000000],\n",
    "           'column_name': [ 'as_ppm' ]})\n",
    "as_ppm = pd.DataFrame(as_ppm_df)\n",
    "\n",
    "as_ppm"
   ]
  },
  {
   "cell_type": "code",
   "execution_count": 24,
   "id": "aa678edf",
   "metadata": {},
   "outputs": [
    {
     "data": {
      "text/plain": [
       "<AxesSubplot:>"
      ]
     },
     "execution_count": 24,
     "metadata": {},
     "output_type": "execute_result"
    },
    {
     "data": {
      "image/png": "[encoded data removed]",
      "text/plain": [
       "<Figure size 432x288 with 1 Axes>"
      ]
     },
     "metadata": {
      "needs_background": "light"
     },
     "output_type": "display_data"
    }
   ],
   "source": [
    "as_ppm.plot.bar()"
   ]
  },
  {
   "cell_type": "code",
   "execution_count": 25,
   "id": "ea88c6da",
   "metadata": {},
   "outputs": [
    {
     "data": {
      "text/html": [
       "<div>\n",
       "<style scoped>\n",
       "    .dataframe tbody tr th:only-of-type {\n",
       "        vertical-align: middle;\n",
       "    }\n",
       "\n",
       "    .dataframe tbody tr th {\n",
       "        vertical-align: top;\n",
       "    }\n",
       "\n",
       "    .dataframe thead th {\n",
       "        text-align: right;\n",
       "    }\n",
       "</style>\n",
       "<table border=\"1\" class=\"dataframe\">\n",
       "  <thead>\n",
       "    <tr style=\"text-align: right;\">\n",
       "      <th></th>\n",
       "      <th>mean</th>\n",
       "      <th>median</th>\n",
       "      <th>column_name</th>\n",
       "    </tr>\n",
       "  </thead>\n",
       "  <tbody>\n",
       "    <tr>\n",
       "      <th>0</th>\n",
       "      <td>1110.927852</td>\n",
       "      <td>517.0</td>\n",
       "      <td>mn_ppm_df</td>\n",
       "    </tr>\n",
       "  </tbody>\n",
       "</table>\n",
       "</div>"
      ],
      "text/plain": [
       "          mean  median column_name\n",
       "0  1110.927852   517.0   mn_ppm_df"
      ]
     },
     "execution_count": 25,
     "metadata": {},
     "output_type": "execute_result"
    }
   ],
   "source": [
    "mn_ppm_df= ({'mean':[  1110.927852],\n",
    "           'median':[  517.000000],\n",
    "           'column_name': [ 'mn_ppm_df']})\n",
    "mn_ppm = pd.DataFrame(mn_ppm_df)\n",
    "\n",
    "mn_ppm"
   ]
  },
  {
   "cell_type": "code",
   "execution_count": 26,
   "id": "94918bcc",
   "metadata": {},
   "outputs": [
    {
     "data": {
      "text/plain": [
       "<AxesSubplot:>"
      ]
     },
     "execution_count": 26,
     "metadata": {},
     "output_type": "execute_result"
    },
    {
     "data": {
      "image/png": "[encoded data removed]",
      "text/plain": [
       "<Figure size 432x288 with 1 Axes>"
      ]
     },
     "metadata": {
      "needs_background": "light"
     },
     "output_type": "display_data"
    }
   ],
   "source": [
    "mn_ppm.plot.bar()"
   ]
  },
  {
   "cell_type": "code",
   "execution_count": 27,
   "id": "afb3372c",
   "metadata": {},
   "outputs": [
    {
     "data": {
      "text/html": [
       "<div>\n",
       "<style scoped>\n",
       "    .dataframe tbody tr th:only-of-type {\n",
       "        vertical-align: middle;\n",
       "    }\n",
       "\n",
       "    .dataframe tbody tr th {\n",
       "        vertical-align: top;\n",
       "    }\n",
       "\n",
       "    .dataframe thead th {\n",
       "        text-align: right;\n",
       "    }\n",
       "</style>\n",
       "<table border=\"1\" class=\"dataframe\">\n",
       "  <thead>\n",
       "    <tr style=\"text-align: right;\">\n",
       "      <th></th>\n",
       "      <th>mean</th>\n",
       "      <th>median</th>\n",
       "      <th>column_name</th>\n",
       "    </tr>\n",
       "  </thead>\n",
       "  <tbody>\n",
       "    <tr>\n",
       "      <th>0</th>\n",
       "      <td>17.938635</td>\n",
       "      <td>7.0</td>\n",
       "      <td>pb_ppm</td>\n",
       "    </tr>\n",
       "  </tbody>\n",
       "</table>\n",
       "</div>"
      ],
      "text/plain": [
       "        mean  median column_name\n",
       "0  17.938635     7.0      pb_ppm"
      ]
     },
     "execution_count": 27,
     "metadata": {},
     "output_type": "execute_result"
    }
   ],
   "source": [
    "pb_ppm_df= ({'mean':[ 17.938635 ],\n",
    "           'median':[ 7.000000 ],\n",
    "           'column_name': [ 'pb_ppm']})\n",
    "pb_ppm = pd.DataFrame(pb_ppm_df)\n",
    "\n",
    "pb_ppm"
   ]
  },
  {
   "cell_type": "code",
   "execution_count": 28,
   "id": "aa4f60bd",
   "metadata": {},
   "outputs": [
    {
     "data": {
      "text/plain": [
       "<AxesSubplot:>"
      ]
     },
     "execution_count": 28,
     "metadata": {},
     "output_type": "execute_result"
    },
    {
     "data": {
      "image/png": "[encoded data removed]",
      "text/plain": [
       "<Figure size 432x288 with 1 Axes>"
      ]
     },
     "metadata": {
      "needs_background": "light"
     },
     "output_type": "display_data"
    }
   ],
   "source": [
    "pb_ppm.plot.bar()"
   ]
  },
  {
   "cell_type": "code",
   "execution_count": 29,
   "id": "ed58439b",
   "metadata": {},
   "outputs": [
    {
     "data": {
      "text/plain": [
       "<AxesSubplot:ylabel='Frequency'>"
      ]
     },
     "execution_count": 29,
     "metadata": {},
     "output_type": "execute_result"
    },
    {
     "data": {
      "image/png": "[encoded data removed]",
      "text/plain": [
       "<Figure size 432x288 with 1 Axes>"
      ]
     },
     "metadata": {
      "needs_background": "light"
     },
     "output_type": "display_data"
    }
   ],
   "source": [
    "u_xx_ppm.plot.hist()"
   ]
  },
  {
   "cell_type": "code",
   "execution_count": 30,
   "id": "7939e63c",
   "metadata": {},
   "outputs": [
    {
     "data": {
      "text/plain": [
       "<AxesSubplot:ylabel='Frequency'>"
      ]
     },
     "execution_count": 30,
     "metadata": {},
     "output_type": "execute_result"
    },
    {
     "data": {
      "image/png": "[encoded data removed]",
      "text/plain": [
       "<Figure size 432x288 with 1 Axes>"
      ]
     },
     "metadata": {
      "needs_background": "light"
     },
     "output_type": "display_data"
    }
   ],
   "source": [
    "as_ppm.plot.hist()"
   ]
  },
  {
   "cell_type": "code",
   "execution_count": null,
   "id": "ba1c96f3",
   "metadata": {},
   "outputs": [],
   "source": [
    "\n",
    "    \n",
    "    "
   ]
  },
  {
   "cell_type": "code",
   "execution_count": null,
   "id": "a26acf00",
   "metadata": {},
   "outputs": [],
   "source": []
  }
 ],
 "metadata": {
  "kernelspec": {
   "display_name": "Python 3 (ipykernel)",
   "language": "python",
   "name": "python3"
  },
  "language_info": {
   "codemirror_mode": {
    "name": "ipython",
    "version": 3
   },
   "file_extension": ".py",
   "mimetype": "text/x-python",
   "name": "python",
   "nbconvert_exporter": "python",
   "pygments_lexer": "ipython3",
   "version": "3.9.7"
  }
 },
 "nbformat": 4,
 "nbformat_minor": 5
}
